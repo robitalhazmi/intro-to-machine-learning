{
  "nbformat": 4,
  "nbformat_minor": 0,
  "metadata": {
    "colab": {
      "provenance": []
    },
    "kernelspec": {
      "name": "python3",
      "display_name": "Python 3"
    },
    "language_info": {
      "name": "python"
    }
  },
  "cells": [
    {
      "cell_type": "markdown",
      "source": [
        "# Random Forests"
      ],
      "metadata": {
        "id": "HaJK6gWYkiNI"
      }
    },
    {
      "cell_type": "markdown",
      "source": [
        "Using a more sophisticated machine learning algorithm."
      ],
      "metadata": {
        "id": "bdUGRZGNkkBw"
      }
    },
    {
      "cell_type": "markdown",
      "source": [
        "## Example"
      ],
      "metadata": {
        "id": "R0YaqX26liu8"
      }
    },
    {
      "cell_type": "code",
      "source": [
        "import pandas as pd\n",
        "\n",
        "melbourne_file_path = 'https://raw.githubusercontent.com/robitalhazmi/intro-to-machine-learning/main/melb_data.csv'\n",
        "melbourne_data = pd.read_csv(melbourne_file_path)\n",
        "melbourne_data.columns"
      ],
      "metadata": {
        "colab": {
          "base_uri": "https://localhost:8080/"
        },
        "id": "bvT4Mvs9llDy",
        "outputId": "c8977553-1175-4ee7-ecd6-5c88622bc971"
      },
      "execution_count": 1,
      "outputs": [
        {
          "output_type": "execute_result",
          "data": {
            "text/plain": [
              "Index(['Suburb', 'Address', 'Rooms', 'Type', 'Price', 'Method', 'SellerG',\n",
              "       'Date', 'Distance', 'Postcode', 'Bedroom2', 'Bathroom', 'Car',\n",
              "       'Landsize', 'BuildingArea', 'YearBuilt', 'CouncilArea', 'Lattitude',\n",
              "       'Longtitude', 'Regionname', 'Propertycount'],\n",
              "      dtype='object')"
            ]
          },
          "metadata": {},
          "execution_count": 1
        }
      ]
    },
    {
      "cell_type": "code",
      "source": [
        "y = melbourne_data.Price"
      ],
      "metadata": {
        "id": "g-OkF63Elso6"
      },
      "execution_count": 2,
      "outputs": []
    },
    {
      "cell_type": "code",
      "source": [
        "melbourne_features = ['Rooms', 'Bathroom', 'Landsize', 'Lattitude', 'Longtitude']"
      ],
      "metadata": {
        "id": "EN-1STf0luH8"
      },
      "execution_count": 3,
      "outputs": []
    },
    {
      "cell_type": "code",
      "source": [
        "X = melbourne_data[melbourne_features]"
      ],
      "metadata": {
        "id": "G6_IiG_zlvad"
      },
      "execution_count": 4,
      "outputs": []
    },
    {
      "cell_type": "code",
      "source": [
        "from sklearn.model_selection import train_test_split\n",
        "\n",
        "# split data into training and validation data, for both features and target\n",
        "# The split is based on a random number generator. Supplying a numeric value to\n",
        "# the random_state argument guarantees we get the same split every time we\n",
        "# run this script.\n",
        "train_X, val_X, train_y, val_y = train_test_split(X, y, random_state = 0)"
      ],
      "metadata": {
        "id": "MKQMqOA1lyQo"
      },
      "execution_count": 5,
      "outputs": []
    },
    {
      "cell_type": "markdown",
      "source": [
        "Kode ini menggunakan library scikit-learn untuk memprediksi harga rumah pada data validasi (val_X) dengan model Random Forest Regressor."
      ],
      "metadata": {
        "id": "zv6CUeckmHL2"
      }
    },
    {
      "cell_type": "code",
      "source": [
        "from sklearn.ensemble import RandomForestRegressor\n",
        "from sklearn.metrics import mean_absolute_error\n",
        "\n",
        "forest_model = RandomForestRegressor(random_state=1)\n",
        "forest_model.fit(train_X, train_y)\n",
        "melb_preds = forest_model.predict(val_X)\n",
        "print(mean_absolute_error(val_y, melb_preds))"
      ],
      "metadata": {
        "colab": {
          "base_uri": "https://localhost:8080/"
        },
        "id": "Mf0nlbQ5kirz",
        "outputId": "f584fb56-c1b7-4262-d265-f9caa07ac3cb"
      },
      "execution_count": 6,
      "outputs": [
        {
          "output_type": "stream",
          "name": "stdout",
          "text": [
            "180860.37877504269\n"
          ]
        }
      ]
    },
    {
      "cell_type": "markdown",
      "source": [
        "1. Baris pertama mengimpor library yang diperlukan:\n",
        "\n",
        "    * RandomForestRegressor dari sklearn.ensemble untuk membuat model regresi hutan acak (Random Forest).\n",
        "    \n",
        "    * mean_absolute_error dari sklearn.metrics untuk menghitung Mean Absolute Error (MAE).\n",
        "\n",
        "2. Baris selanjutnya:\n",
        "    * membuat model forest_model berupa Random Forest Regressor.\n",
        "    \n",
        "    * Parameter random_state=1 memastikan hasil model dapat direproduksi jika Anda menjalankan kode beberapa kali.\n",
        "    \n",
        "    * Selanjutnya melatih model forest_model menggunakan data training train_X dan train_y. Proses ini membuat model belajar hubungan antara fitur pada train_X dan harga rumah pada train_y.\n",
        "\n",
        "3. Selanjutnya menggunakan model terlatih forest_model untuk memprediksi harga rumah pada data validasi val_X. Hasil prediksi disimpan di variabel melb_preds.\n",
        "\n",
        "4. Terakhir:\n",
        "    * Baris ini menghitung MAE antara nilai prediksi melb_preds dan nilai harga rumah aktual val_y menggunakan fungsi mean_absolute_error.\n",
        "    \n",
        "    * Nilai MAE yang dihasilkan akan dicetak. Semakin kecil nilai MAE, semakin akurat model dalam memprediksi harga rumah pada data validasi yang belum dilihat sebelumnya.\n"
      ],
      "metadata": {
        "id": "SxPN1ClzmK-u"
      }
    }
  ]
}