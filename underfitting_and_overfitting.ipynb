{
  "nbformat": 4,
  "nbformat_minor": 0,
  "metadata": {
    "colab": {
      "provenance": []
    },
    "kernelspec": {
      "name": "python3",
      "display_name": "Python 3"
    },
    "language_info": {
      "name": "python"
    }
  },
  "cells": [
    {
      "cell_type": "markdown",
      "source": [
        "# Underfitting and Overfitting"
      ],
      "metadata": {
        "id": "ml8eoJMjdnOu"
      }
    },
    {
      "cell_type": "markdown",
      "source": [
        "Fine-tune your model for better performance."
      ],
      "metadata": {
        "id": "cRRBmebndpsg"
      }
    },
    {
      "cell_type": "markdown",
      "source": [
        "## Example"
      ],
      "metadata": {
        "id": "SFhxJHOMgSrR"
      }
    },
    {
      "cell_type": "markdown",
      "source": [
        "Kode ini mendefinisikan fungsi get_mae yang digunakan untuk menghitung Mean Absolute Error (MAE) pada model Decision Tree Regressor."
      ],
      "metadata": {
        "id": "R12NEHjKgw-D"
      }
    },
    {
      "cell_type": "code",
      "source": [
        "from sklearn.metrics import mean_absolute_error\n",
        "from sklearn.tree import DecisionTreeRegressor\n",
        "\n",
        "def get_mae(max_leaf_nodes, train_X, val_X, train_y, val_y):\n",
        "    model = DecisionTreeRegressor(max_leaf_nodes=max_leaf_nodes, random_state=0)\n",
        "    model.fit(train_X, train_y)\n",
        "    preds_val = model.predict(val_X)\n",
        "    mae = mean_absolute_error(val_y, preds_val)\n",
        "    return(mae)"
      ],
      "metadata": {
        "id": "CrXDdPE7doLO"
      },
      "execution_count": 1,
      "outputs": []
    },
    {
      "cell_type": "markdown",
      "source": [
        "1. Baris pertama:\n",
        "    * Baris ini mengimpor fungsi mean_absolute_error dari library sklearn.metrics untuk menghitung MAE.\n",
        "    * Baris ini mengimpor class DecisionTreeRegressor dari library sklearn.tree untuk membuat model regresi pohon keputusan.\n",
        "\n",
        "2. Baris kedua membuat fungsi bernama get_mae dan menerima 5 parameter:\n",
        "\n",
        "    * max_leaf_nodes: Menentukan jumlah maksimum node daun pada pohon keputusan.\n",
        "    * train_X: Fitur data training.\n",
        "    * val_X: Fitur data validasi.\n",
        "    * train_y: Variabel target data training.\n",
        "    * val_y: Variabel target data validasi.\n",
        "\n",
        "3. Baris ketiga membuat model Decision Tree Regressor dengan parameter max_leaf_nodes yang membatasi jumlah maksimum node daun di pohon keputusan.\n",
        "\n",
        "4. Baris keempat melatih model menggunakan data training train_X dan train_y.\n",
        "\n",
        "5. Baris kelima menggunakan model yang sudah dilatih untuk memprediksi variabel target pada data validasi val_X. Hasil prediksi disimpan di preds_val.\n",
        "\n",
        "6. Baris ketujuh menghitung MAE antara nilai prediksi preds_val dan nilai aktual val_y menggunakan fungsi mean_absolute_error.\n",
        "\n",
        "7. Baris terakhir mengembalikan nilai MAE yang telah dihitung."
      ],
      "metadata": {
        "id": "TW5M1iY7g4C_"
      }
    },
    {
      "cell_type": "code",
      "source": [
        "import pandas as pd\n",
        "\n",
        "melbourne_file_path = 'https://raw.githubusercontent.com/robitalhazmi/intro-to-machine-learning/main/melb_data.csv'\n",
        "melbourne_data = pd.read_csv(melbourne_file_path)\n",
        "melbourne_data.columns"
      ],
      "metadata": {
        "colab": {
          "base_uri": "https://localhost:8080/"
        },
        "id": "LACuR-FHiCR0",
        "outputId": "b6a935fa-4d86-4faa-98ba-0b87ab20e70a"
      },
      "execution_count": 3,
      "outputs": [
        {
          "output_type": "execute_result",
          "data": {
            "text/plain": [
              "Index(['Suburb', 'Address', 'Rooms', 'Type', 'Price', 'Method', 'SellerG',\n",
              "       'Date', 'Distance', 'Postcode', 'Bedroom2', 'Bathroom', 'Car',\n",
              "       'Landsize', 'BuildingArea', 'YearBuilt', 'CouncilArea', 'Lattitude',\n",
              "       'Longtitude', 'Regionname', 'Propertycount'],\n",
              "      dtype='object')"
            ]
          },
          "metadata": {},
          "execution_count": 3
        }
      ]
    },
    {
      "cell_type": "code",
      "source": [
        "y = melbourne_data.Price"
      ],
      "metadata": {
        "id": "DlpxnLIliEn9"
      },
      "execution_count": 4,
      "outputs": []
    },
    {
      "cell_type": "code",
      "source": [
        "melbourne_features = ['Rooms', 'Bathroom', 'Landsize', 'Lattitude', 'Longtitude']"
      ],
      "metadata": {
        "id": "d2Xd2xITiGaW"
      },
      "execution_count": 5,
      "outputs": []
    },
    {
      "cell_type": "code",
      "source": [
        "X = melbourne_data[melbourne_features]"
      ],
      "metadata": {
        "id": "8KS_N-6TiH0A"
      },
      "execution_count": 6,
      "outputs": []
    },
    {
      "cell_type": "code",
      "source": [
        "from sklearn.model_selection import train_test_split\n",
        "\n",
        "# split data into training and validation data, for both features and target\n",
        "# The split is based on a random number generator. Supplying a numeric value to\n",
        "# the random_state argument guarantees we get the same split every time we\n",
        "# run this script.\n",
        "train_X, val_X, train_y, val_y = train_test_split(X, y, random_state = 0)"
      ],
      "metadata": {
        "id": "-ZL5IejfiJOh"
      },
      "execution_count": 7,
      "outputs": []
    },
    {
      "cell_type": "code",
      "source": [
        "# compare MAE with differing values of max_leaf_nodes\n",
        "for max_leaf_nodes in [5, 50, 500, 5000]:\n",
        "    my_mae = get_mae(max_leaf_nodes, train_X, val_X, train_y, val_y)\n",
        "    print(\"Max leaf nodes: %d  \\t\\t Mean Absolute Error:  %d\" %(max_leaf_nodes, my_mae))"
      ],
      "metadata": {
        "colab": {
          "base_uri": "https://localhost:8080/"
        },
        "id": "-mRlAFHyhC0k",
        "outputId": "6d823fb7-53ac-4e8b-b5b4-712a183db1ef"
      },
      "execution_count": 8,
      "outputs": [
        {
          "output_type": "stream",
          "name": "stdout",
          "text": [
            "Max leaf nodes: 5  \t\t Mean Absolute Error:  354662\n",
            "Max leaf nodes: 50  \t\t Mean Absolute Error:  266447\n",
            "Max leaf nodes: 500  \t\t Mean Absolute Error:  231301\n",
            "Max leaf nodes: 5000  \t\t Mean Absolute Error:  248846\n"
          ]
        }
      ]
    }
  ]
}